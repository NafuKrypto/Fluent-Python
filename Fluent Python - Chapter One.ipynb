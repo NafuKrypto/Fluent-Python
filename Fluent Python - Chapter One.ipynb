{
 "cells": [
  {
   "cell_type": "markdown",
   "metadata": {},
   "source": [
    "# Chapter 1\n",
    "\n",
    "## The Python Data Model\n",
    "\n",
    "**Data Model**\n",
    "- Description of Python as a framework \n",
    "- Formalizes the interfaces such as sequesnces , iterators , functions , classes , context manager \n",
    "\n",
    "**Method**  \n",
    "- implementing methods that are called by framework and data model \n",
    "- Python interpreter invokes special methods to \n",
    "- Python interpreter triggerd by special syntax\n",
    "- special methods syntax -->  (\\__getitem__\\)"
   ]
  },
  {
   "cell_type": "markdown",
   "metadata": {},
   "source": [
    "**Special Method names**\n",
    "\n",
    "- allows our objects to implement , support , and interact with basic language constructs as such \n",
    "        + Iteration\n",
    "        + Collection \n",
    "        + Attribute access\n",
    "        + Operator Overloading \n",
    "        + Function and method invocation\n",
    "        + Object creation \n",
    "        + String representation \n",
    "        + Managed contexts (with blocks)\n",
    "        \n",
    "  **Note :** All data in a Python program is represented by objects or by relations between objects.\n",
    "  \n",
    "  \n",
    "  "
   ]
  },
  {
   "cell_type": "markdown",
   "metadata": {},
   "source": [
    "**Magic and Dunder**\n",
    "- a slang for special method \n",
    "- Pronounce it --> (\\__getitem__\\) --> \"dunder-getitem\"\n",
    "- for the upper reason , special methods are also known as dunder method "
   ]
  },
  {
   "cell_type": "markdown",
   "metadata": {},
   "source": [
    "# CPython\n",
    "\n",
    "- Written in C and Python,\n",
    "- CPython is the default and most widely used implementation of the Python language. \n",
    "- can be defined as both an interpreter and a compiler as it compiles Python code into bytecode before interpreting it\n",
    "- has a foreign function interface with several languages, including C\n",
    "\n",
    "Python code --> byte code by cpython --> machine readable\n",
    "\n",
    "**CPython implementation detail:** \n",
    "\n",
    "For CPython, id(x) is the memory address where x is stored.\n",
    "\n",
    "CPython currently uses a reference-counting scheme with (optional) delayed detection of cyclically linked garbage, which collects most objects as soon as they become unreachable, but is not guaranteed to collect garbage containing circular references.\n",
    "\n",
    "Some objects contain references to “external” resources such as open files or windows. It is understood that these resources are freed when the object is garbage-collected, but since garbage collection is not guaranteed to happen, such objects also provide an explicit way to release the external resource, usually a close() method. Programs are strongly recommended to explicitly close such objects. \n",
    "\n",
    "The ‘try…finally’ statement and the ‘with’ statement provide convenient ways to do this.\n",
    "\n",
    "- Objects whose value can change are said to be mutable\n",
    "- value is unchangeable once they are created are called immutable\n",
    "- An object’s mutability is determined by its type; \n",
    "- for instance, numbers, strings and tuples are immutable, \n",
    "- while dictionaries and lists are mutable.\n",
    "\n",
    "Some objects contain references to other objects; these are called containers. Examples of containers are tuples, lists and dictionaries. The references are part of a container’s value. In most cases, when we talk about the value of a container, we imply the values, not the identities of the contained objects; however, when we talk about the mutability of a container, only the identities of the immediately contained objects are implied. So, if an immutable container (like a tuple) contains a reference to a mutable object, its value changes if that mutable object is changed.\n",
    "\n",
    "\n"
   ]
  },
  {
   "cell_type": "markdown",
   "metadata": {},
   "source": [
    "# A Pythonic Card Deck\n",
    "\n",
    "*Example 1-1*\n"
   ]
  },
  {
   "cell_type": "code",
   "execution_count": 2,
   "metadata": {},
   "outputs": [],
   "source": [
    "import collections"
   ]
  },
  {
   "cell_type": "code",
   "execution_count": 3,
   "metadata": {},
   "outputs": [],
   "source": [
    "#to construct a simple class to represent individual cards\n",
    "Card=collections.namedtuple('Card',['rank','suite'])"
   ]
  },
  {
   "cell_type": "code",
   "execution_count": 4,
   "metadata": {},
   "outputs": [
    {
     "data": {
      "text/plain": [
       "Card(rank=[1, 2, 3], suite=['a', 'b', 'c'])"
      ]
     },
     "execution_count": 4,
     "metadata": {},
     "output_type": "execute_result"
    }
   ],
   "source": [
    "Card([1,2,3],['a','b','c'])"
   ]
  },
  {
   "cell_type": "code",
   "execution_count": 5,
   "metadata": {},
   "outputs": [
    {
     "data": {
      "text/plain": [
       "type"
      ]
     },
     "execution_count": 5,
     "metadata": {},
     "output_type": "execute_result"
    }
   ],
   "source": [
    "type(Card)"
   ]
  },
  {
   "cell_type": "code",
   "execution_count": 6,
   "metadata": {},
   "outputs": [],
   "source": [
    "class FrenchDeck:\n",
    "    ranks = [str(n) for n in range(2, 11)] + list('JQKA')\n",
    "    suits = 'spades diamonds clubs hearts'.split()\n",
    "    def __init__(self):\n",
    "        self._cards = [Card(rank, suit) for suit in self.suits for rank in self.ranks]\n",
    "    def __len__(self):\n",
    "        return len(self._cards)\n",
    "    def __getitem__(self, position):\n",
    "        return self._cards[position]"
   ]
  },
  {
   "cell_type": "code",
   "execution_count": 7,
   "metadata": {},
   "outputs": [],
   "source": [
    "beer_card = Card('7', 'diamonds')"
   ]
  },
  {
   "cell_type": "code",
   "execution_count": 8,
   "metadata": {},
   "outputs": [
    {
     "data": {
      "text/plain": [
       "Card(rank='7', suite='diamonds')"
      ]
     },
     "execution_count": 8,
     "metadata": {},
     "output_type": "execute_result"
    }
   ],
   "source": [
    "beer_card"
   ]
  },
  {
   "cell_type": "code",
   "execution_count": 9,
   "metadata": {},
   "outputs": [
    {
     "data": {
      "text/plain": [
       "__main__.Card"
      ]
     },
     "execution_count": 9,
     "metadata": {},
     "output_type": "execute_result"
    }
   ],
   "source": [
    "type(beer_card)"
   ]
  },
  {
   "cell_type": "code",
   "execution_count": 10,
   "metadata": {},
   "outputs": [],
   "source": [
    "deck=FrenchDeck()"
   ]
  },
  {
   "cell_type": "code",
   "execution_count": 11,
   "metadata": {},
   "outputs": [
    {
     "data": {
      "text/plain": [
       "52"
      ]
     },
     "execution_count": 11,
     "metadata": {},
     "output_type": "execute_result"
    }
   ],
   "source": [
    "len(deck)"
   ]
  },
  {
   "cell_type": "code",
   "execution_count": 12,
   "metadata": {},
   "outputs": [
    {
     "data": {
      "text/plain": [
       "__main__.FrenchDeck"
      ]
     },
     "execution_count": 12,
     "metadata": {},
     "output_type": "execute_result"
    }
   ],
   "source": [
    "type(deck)"
   ]
  },
  {
   "cell_type": "code",
   "execution_count": 13,
   "metadata": {},
   "outputs": [
    {
     "data": {
      "text/plain": [
       "Card(rank='2', suite='spades')"
      ]
     },
     "execution_count": 13,
     "metadata": {},
     "output_type": "execute_result"
    }
   ],
   "source": [
    "# first card\n",
    "deck[0]"
   ]
  },
  {
   "cell_type": "code",
   "execution_count": 14,
   "metadata": {},
   "outputs": [
    {
     "data": {
      "text/plain": [
       "Card(rank='A', suite='hearts')"
      ]
     },
     "execution_count": 14,
     "metadata": {},
     "output_type": "execute_result"
    }
   ],
   "source": [
    "deck[-1]"
   ]
  },
  {
   "cell_type": "code",
   "execution_count": 15,
   "metadata": {},
   "outputs": [
    {
     "data": {
      "text/plain": [
       "Card(rank='3', suite='clubs')"
      ]
     },
     "execution_count": 15,
     "metadata": {},
     "output_type": "execute_result"
    }
   ],
   "source": [
    "# randomly choosing deck\n",
    "from random import choice \n",
    "choice(deck)"
   ]
  },
  {
   "cell_type": "markdown",
   "metadata": {},
   "source": [
    "### Two advantages of using special method\n",
    "\n",
    "+ The users of your classes don’t have to memorize arbitrary method names for standard operations (“How to get the number of items? Is it .size(), .length(), or what?”).\n",
    "\n",
    "+ It’s easier to benefit from the rich Python standard library and avoid reinventing the wheel, like the random.choice function."
   ]
  },
  {
   "cell_type": "code",
   "execution_count": 16,
   "metadata": {},
   "outputs": [
    {
     "data": {
      "text/plain": [
       "[Card(rank='2', suite='spades'),\n",
       " Card(rank='3', suite='spades'),\n",
       " Card(rank='4', suite='spades')]"
      ]
     },
     "execution_count": 16,
     "metadata": {},
     "output_type": "execute_result"
    }
   ],
   "source": [
    "#top 3 cards\n",
    "deck[:3]"
   ]
  },
  {
   "cell_type": "code",
   "execution_count": 17,
   "metadata": {},
   "outputs": [
    {
     "data": {
      "text/plain": [
       "[Card(rank='A', suite='spades'),\n",
       " Card(rank='A', suite='diamonds'),\n",
       " Card(rank='A', suite='clubs'),\n",
       " Card(rank='A', suite='hearts')]"
      ]
     },
     "execution_count": 17,
     "metadata": {},
     "output_type": "execute_result"
    }
   ],
   "source": [
    "#picking first card at 12 and then picking cards at 13 interval \n",
    "deck[12::13]"
   ]
  },
  {
   "cell_type": "code",
   "execution_count": 18,
   "metadata": {},
   "outputs": [
    {
     "name": "stdout",
     "output_type": "stream",
     "text": [
      "Card(rank='2', suite='spades')\n",
      "Card(rank='3', suite='spades')\n",
      "Card(rank='4', suite='spades')\n",
      "Card(rank='5', suite='spades')\n",
      "Card(rank='6', suite='spades')\n",
      "Card(rank='7', suite='spades')\n",
      "Card(rank='8', suite='spades')\n",
      "Card(rank='9', suite='spades')\n",
      "Card(rank='10', suite='spades')\n",
      "Card(rank='J', suite='spades')\n",
      "Card(rank='Q', suite='spades')\n",
      "Card(rank='K', suite='spades')\n",
      "Card(rank='A', suite='spades')\n",
      "Card(rank='2', suite='diamonds')\n",
      "Card(rank='3', suite='diamonds')\n",
      "Card(rank='4', suite='diamonds')\n",
      "Card(rank='5', suite='diamonds')\n",
      "Card(rank='6', suite='diamonds')\n",
      "Card(rank='7', suite='diamonds')\n",
      "Card(rank='8', suite='diamonds')\n",
      "Card(rank='9', suite='diamonds')\n",
      "Card(rank='10', suite='diamonds')\n",
      "Card(rank='J', suite='diamonds')\n",
      "Card(rank='Q', suite='diamonds')\n",
      "Card(rank='K', suite='diamonds')\n",
      "Card(rank='A', suite='diamonds')\n",
      "Card(rank='2', suite='clubs')\n",
      "Card(rank='3', suite='clubs')\n",
      "Card(rank='4', suite='clubs')\n",
      "Card(rank='5', suite='clubs')\n",
      "Card(rank='6', suite='clubs')\n",
      "Card(rank='7', suite='clubs')\n",
      "Card(rank='8', suite='clubs')\n",
      "Card(rank='9', suite='clubs')\n",
      "Card(rank='10', suite='clubs')\n",
      "Card(rank='J', suite='clubs')\n",
      "Card(rank='Q', suite='clubs')\n",
      "Card(rank='K', suite='clubs')\n",
      "Card(rank='A', suite='clubs')\n",
      "Card(rank='2', suite='hearts')\n",
      "Card(rank='3', suite='hearts')\n",
      "Card(rank='4', suite='hearts')\n",
      "Card(rank='5', suite='hearts')\n",
      "Card(rank='6', suite='hearts')\n",
      "Card(rank='7', suite='hearts')\n",
      "Card(rank='8', suite='hearts')\n",
      "Card(rank='9', suite='hearts')\n",
      "Card(rank='10', suite='hearts')\n",
      "Card(rank='J', suite='hearts')\n",
      "Card(rank='Q', suite='hearts')\n",
      "Card(rank='K', suite='hearts')\n",
      "Card(rank='A', suite='hearts')\n"
     ]
    }
   ],
   "source": [
    "for x in deck:\n",
    "    print(x)"
   ]
  },
  {
   "cell_type": "code",
   "execution_count": 19,
   "metadata": {},
   "outputs": [
    {
     "data": {
      "text/plain": [
       "Card(rank='2', suite='diamonds')"
      ]
     },
     "execution_count": 19,
     "metadata": {},
     "output_type": "execute_result"
    }
   ],
   "source": [
    "deck[13]"
   ]
  },
  {
   "cell_type": "code",
   "execution_count": 20,
   "metadata": {},
   "outputs": [
    {
     "data": {
      "text/plain": [
       "[Card(rank='2', suite='spades'),\n",
       " Card(rank='2', suite='diamonds'),\n",
       " Card(rank='2', suite='clubs'),\n",
       " Card(rank='2', suite='hearts')]"
      ]
     },
     "execution_count": 20,
     "metadata": {},
     "output_type": "execute_result"
    }
   ],
   "source": [
    "deck[::13] #checking how [::] works "
   ]
  },
  {
   "cell_type": "code",
   "execution_count": 21,
   "metadata": {},
   "outputs": [
    {
     "name": "stdout",
     "output_type": "stream",
     "text": [
      "Card(rank='A', suite='hearts')\n",
      "Card(rank='K', suite='hearts')\n",
      "Card(rank='Q', suite='hearts')\n",
      "Card(rank='J', suite='hearts')\n",
      "Card(rank='10', suite='hearts')\n",
      "Card(rank='9', suite='hearts')\n",
      "Card(rank='8', suite='hearts')\n",
      "Card(rank='7', suite='hearts')\n",
      "Card(rank='6', suite='hearts')\n",
      "Card(rank='5', suite='hearts')\n",
      "Card(rank='4', suite='hearts')\n",
      "Card(rank='3', suite='hearts')\n",
      "Card(rank='2', suite='hearts')\n",
      "Card(rank='A', suite='clubs')\n",
      "Card(rank='K', suite='clubs')\n",
      "Card(rank='Q', suite='clubs')\n",
      "Card(rank='J', suite='clubs')\n",
      "Card(rank='10', suite='clubs')\n",
      "Card(rank='9', suite='clubs')\n",
      "Card(rank='8', suite='clubs')\n",
      "Card(rank='7', suite='clubs')\n",
      "Card(rank='6', suite='clubs')\n",
      "Card(rank='5', suite='clubs')\n",
      "Card(rank='4', suite='clubs')\n",
      "Card(rank='3', suite='clubs')\n",
      "Card(rank='2', suite='clubs')\n",
      "Card(rank='A', suite='diamonds')\n",
      "Card(rank='K', suite='diamonds')\n",
      "Card(rank='Q', suite='diamonds')\n",
      "Card(rank='J', suite='diamonds')\n",
      "Card(rank='10', suite='diamonds')\n",
      "Card(rank='9', suite='diamonds')\n",
      "Card(rank='8', suite='diamonds')\n",
      "Card(rank='7', suite='diamonds')\n",
      "Card(rank='6', suite='diamonds')\n",
      "Card(rank='5', suite='diamonds')\n",
      "Card(rank='4', suite='diamonds')\n",
      "Card(rank='3', suite='diamonds')\n",
      "Card(rank='2', suite='diamonds')\n",
      "Card(rank='A', suite='spades')\n",
      "Card(rank='K', suite='spades')\n",
      "Card(rank='Q', suite='spades')\n",
      "Card(rank='J', suite='spades')\n",
      "Card(rank='10', suite='spades')\n",
      "Card(rank='9', suite='spades')\n",
      "Card(rank='8', suite='spades')\n",
      "Card(rank='7', suite='spades')\n",
      "Card(rank='6', suite='spades')\n",
      "Card(rank='5', suite='spades')\n",
      "Card(rank='4', suite='spades')\n",
      "Card(rank='3', suite='spades')\n",
      "Card(rank='2', suite='spades')\n"
     ]
    }
   ],
   "source": [
    "# reversing the cards and then printing\n",
    "for x in reversed(deck): # doctest: +ELLIPSIS\n",
    "    print(x)"
   ]
  },
  {
   "cell_type": "markdown",
   "metadata": {},
   "source": [
    "# Ellipsis in doctests\n",
    "\n",
    "*1. When the output was too long, the elided part is marked by an ellipsis* *(...) like in the last line in the preceding code.*\n",
    "\n",
    "*2. In such cases, we used the #doctest: +ELLIPSIS directive to make the* *doctest pass.*\n",
    "\n",
    "Iteration is often implicit. If a collection has no __contains__ method, the in operatordoes a sequential scan.\n",
    "\n",
    "Case in point: in works with our FrenchDeck class because it is iterable."
   ]
  },
  {
   "cell_type": "code",
   "execution_count": 22,
   "metadata": {},
   "outputs": [
    {
     "data": {
      "text/plain": [
       "True"
      ]
     },
     "execution_count": 22,
     "metadata": {},
     "output_type": "execute_result"
    }
   ],
   "source": [
    "Card('Q','hearts') in deck"
   ]
  },
  {
   "cell_type": "code",
   "execution_count": 23,
   "metadata": {},
   "outputs": [
    {
     "data": {
      "text/plain": [
       "False"
      ]
     },
     "execution_count": 23,
     "metadata": {},
     "output_type": "execute_result"
    }
   ],
   "source": [
    "Card('Q','beasts') in deck"
   ]
  },
  {
   "cell_type": "markdown",
   "metadata": {},
   "source": [
    "# Sorting\n",
    "\n",
    "+ By rank (Ace is the highest)\n",
    "+ By suite in order of spades (highest)\n",
    "+ then hearts, diamonds and clubs"
   ]
  },
  {
   "cell_type": "markdown",
   "metadata": {},
   "source": [
    "Here is a function that ranks cards by that rule, returning 0 for the 2 of clubs\n",
    "and 51 for the ace of spades:"
   ]
  },
  {
   "cell_type": "code",
   "execution_count": 24,
   "metadata": {},
   "outputs": [],
   "source": [
    "suite_values=dict(spades=3,hearts=2,diamonds=1,clubs=0)"
   ]
  },
  {
   "cell_type": "code",
   "execution_count": 25,
   "metadata": {},
   "outputs": [],
   "source": [
    "def spades_high(card):\n",
    "    rank_value=FrenchDeck.ranks.index(card.rank)\n",
    "    return rank_value * len(suite_values) + suite_values[card.suite]"
   ]
  },
  {
   "cell_type": "code",
   "execution_count": 26,
   "metadata": {},
   "outputs": [
    {
     "name": "stdout",
     "output_type": "stream",
     "text": [
      "Card(rank='2', suite='clubs')\n",
      "Card(rank='2', suite='diamonds')\n",
      "Card(rank='2', suite='hearts')\n",
      "Card(rank='2', suite='spades')\n",
      "Card(rank='3', suite='clubs')\n",
      "Card(rank='3', suite='diamonds')\n",
      "Card(rank='3', suite='hearts')\n",
      "Card(rank='3', suite='spades')\n",
      "Card(rank='4', suite='clubs')\n",
      "Card(rank='4', suite='diamonds')\n",
      "Card(rank='4', suite='hearts')\n",
      "Card(rank='4', suite='spades')\n",
      "Card(rank='5', suite='clubs')\n",
      "Card(rank='5', suite='diamonds')\n",
      "Card(rank='5', suite='hearts')\n",
      "Card(rank='5', suite='spades')\n",
      "Card(rank='6', suite='clubs')\n",
      "Card(rank='6', suite='diamonds')\n",
      "Card(rank='6', suite='hearts')\n",
      "Card(rank='6', suite='spades')\n",
      "Card(rank='7', suite='clubs')\n",
      "Card(rank='7', suite='diamonds')\n",
      "Card(rank='7', suite='hearts')\n",
      "Card(rank='7', suite='spades')\n",
      "Card(rank='8', suite='clubs')\n",
      "Card(rank='8', suite='diamonds')\n",
      "Card(rank='8', suite='hearts')\n",
      "Card(rank='8', suite='spades')\n",
      "Card(rank='9', suite='clubs')\n",
      "Card(rank='9', suite='diamonds')\n",
      "Card(rank='9', suite='hearts')\n",
      "Card(rank='9', suite='spades')\n",
      "Card(rank='10', suite='clubs')\n",
      "Card(rank='10', suite='diamonds')\n",
      "Card(rank='10', suite='hearts')\n",
      "Card(rank='10', suite='spades')\n",
      "Card(rank='J', suite='clubs')\n",
      "Card(rank='J', suite='diamonds')\n",
      "Card(rank='J', suite='hearts')\n",
      "Card(rank='J', suite='spades')\n",
      "Card(rank='Q', suite='clubs')\n",
      "Card(rank='Q', suite='diamonds')\n",
      "Card(rank='Q', suite='hearts')\n",
      "Card(rank='Q', suite='spades')\n",
      "Card(rank='K', suite='clubs')\n",
      "Card(rank='K', suite='diamonds')\n",
      "Card(rank='K', suite='hearts')\n",
      "Card(rank='K', suite='spades')\n",
      "Card(rank='A', suite='clubs')\n",
      "Card(rank='A', suite='diamonds')\n",
      "Card(rank='A', suite='hearts')\n",
      "Card(rank='A', suite='spades')\n"
     ]
    }
   ],
   "source": [
    "# deck is an object for FrenchDeck class\n",
    "#sorted(iterable, key=len) --> iterable = list\n",
    "for card in sorted(deck,key=spades_high):\n",
    "    print(card)"
   ]
  },
  {
   "cell_type": "markdown",
   "metadata": {},
   "source": [
    "# FrenchDeck () class\n",
    "+ Although FrenchDeck implicitly inherits from object,4 its functionality is not inherited,\n",
    "but comes from leveraging the data model and composition.\n",
    "\n",
    "+ By implementing the special methods __len__ and __getitem__, our FrenchDeck behaves like a standard Python sequence, allowing it to benefit from core language features (e.g., iteration and slicing)\n",
    "\n",
    "+ For __len__ and __getitem__ implementations, list object self._cards takes all the work away."
   ]
  },
  {
   "cell_type": "markdown",
   "metadata": {},
   "source": [
    "# Can we Shuffle?\n",
    "\n",
    "+ As implemented so far, a FrenchDeck cannot be shuffled, because it is immutable: the cards and their positions cannot be changed, except by violating encapsulation and handling the _cards attribute directly.\n",
    "\n",
    "+ In Chapter 11, that will be fixed byadding a one-line __setitem__ method."
   ]
  },
  {
   "cell_type": "markdown",
   "metadata": {},
   "source": [
    "# How Special Methods are used ?\n",
    "\n",
    "> *special methods - they are meant to be called by the*\n",
    "*Python interpreter, and not by us*\n",
    "\n",
    "*How Python interpreter calls special method in general?*\n",
    "\n",
    "+ We don’t write my_object.\\__len__\\().We write len(my_object) and, if my_object is an instance of a user-defined class, then Python calls the __len__ instance method we implemented.\n",
    "\n",
    "*How Python interpreter calls special method for list,str,bytearray?*\n",
    "\n",
    "+ In this case , the interpreter takes a shortcut : the CPython implementation of len() actually returns the ob_size field in the PyVarObject C struct that represents any variable-sized built-in object in memory. This is much faster than calling a method\n",
    "\n",
    "*Special method call in implicit*\n",
    "\n",
    "+ For example, the statement for i in x: actually causes the invocation of iter(x), which in turn may call x.\\__iter__\\() if that is available.\n",
    "\n",
    ">*Metaprogramming* --> Programs typically read input data, operate on that data and give some output data. Metaprograms read another program, manipulate that program and return a modified program. Sometimes a metaprogram can change its own behaviour by updating itself.\n",
    "\n",
    "*when you should or shouldn't call special method ?*\n",
    "\n",
    "- Normally, your code should not have many direct calls to special methods. Unless you are doing a lot of metaprogramming, you should be implementing special methods more often than invoking them explicitly.\n",
    "\n",
    "- The only special method that is frequently called by user code directly is __init__, to invoke the initializer of the superclass in your own __init__ implementation.\n",
    "\n",
    "*How to invoke special method?*\n",
    "\n",
    "- it is usually better to call the related built-in function (e.g., len, iter, str, etc).\n",
    "- These built-ins call the corresponding special method,but often provide other services and—for built-in types—are faster than method calls.  \n",
    "- Avoid creating arbitrary, custom attributes with the __foo__ syntax because such names may acquire special meanings in the future, even if they are unused today."
   ]
  },
  {
   "cell_type": "markdown",
   "metadata": {},
   "source": [
    "# Emulating Numeric Types\n",
    "\n",
    "- Several special methods allow user objects to respond to operators such as +.\n"
   ]
  },
  {
   "cell_type": "code",
   "execution_count": 27,
   "metadata": {},
   "outputs": [],
   "source": [
    "# Vector Example \n",
    "# hypot -->  sqrt(x1*x1 + x2*x2 +x3*x3 .... xn*xn).\n",
    "from math import hypot\n",
    "class Vector:\n",
    "    def __init__(self, x=0, y=0):\n",
    "        self.x = x\n",
    "        self.y = y\n",
    "    def __repr__(self):\n",
    "        return 'Vector(%r, %r)' % (self.x, self.y)\n",
    "    def __abs__(self):\n",
    "        return hypot(self.x, self.y)\n",
    "    def __bool__(self):\n",
    "        return bool(abs(self))\n",
    "    def __add__(self, other):\n",
    "        x = self.x + other.x\n",
    "        y = self.y + other.y\n",
    "        return Vector(x, y)\n",
    "    def __mul__(self, scalar):\n",
    "        return Vector(self.x * scalar, self.y * scalar)\n"
   ]
  },
  {
   "cell_type": "code",
   "execution_count": 28,
   "metadata": {},
   "outputs": [],
   "source": [
    "v1=Vector(2,4)"
   ]
  },
  {
   "cell_type": "code",
   "execution_count": 29,
   "metadata": {},
   "outputs": [],
   "source": [
    "v2=Vector(2,1)"
   ]
  },
  {
   "cell_type": "code",
   "execution_count": 30,
   "metadata": {},
   "outputs": [
    {
     "data": {
      "text/plain": [
       "Vector(4, 5)"
      ]
     },
     "execution_count": 30,
     "metadata": {},
     "output_type": "execute_result"
    }
   ],
   "source": [
    "v1+v2"
   ]
  },
  {
   "cell_type": "code",
   "execution_count": 31,
   "metadata": {},
   "outputs": [
    {
     "data": {
      "text/plain": [
       "5.0"
      ]
     },
     "execution_count": 31,
     "metadata": {},
     "output_type": "execute_result"
    }
   ],
   "source": [
    "# calculating magnitude of a vector \n",
    "\n",
    "v=Vector(3,4)\n",
    "abs(v)"
   ]
  },
  {
   "cell_type": "markdown",
   "metadata": {},
   "source": [
    "### scaler operation\n",
    "\n",
    "We can also implement the * operator to perform scalar multiplication (i.e., multiplyinga vector by a number to produce a new vector with the same direction and a multiplied magnitude)"
   ]
  },
  {
   "cell_type": "code",
   "execution_count": 32,
   "metadata": {},
   "outputs": [
    {
     "data": {
      "text/plain": [
       "Vector(9, 12)"
      ]
     },
     "execution_count": 32,
     "metadata": {},
     "output_type": "execute_result"
    }
   ],
   "source": [
    "v * 3"
   ]
  },
  {
   "cell_type": "code",
   "execution_count": 33,
   "metadata": {},
   "outputs": [
    {
     "data": {
      "text/plain": [
       "15.0"
      ]
     },
     "execution_count": 33,
     "metadata": {},
     "output_type": "execute_result"
    }
   ],
   "source": [
    "abs(v * 3)"
   ]
  },
  {
   "cell_type": "markdown",
   "metadata": {},
   "source": [
    "# String Reperesntation\n",
    "\n",
    "## 1. __repr__\n",
    "\n",
    "- special method is called by the repr built-in to get the string representation of the object for inspection.  \n",
    "- If we did not implement __repr__, vector instances would be shown in the console like <Vector object at 0x10e100070>.\n",
    "\n",
    "### When __repr__ is called ?\n",
    "\n",
    "- The interactive console and debugger call repr on the results of the expressions evaluated,as does the %r placeholder in classic formatting with the % operator, and the !r conversion field in the new Format String Syntax used in the str.format method.\n"
   ]
  },
  {
   "cell_type": "markdown",
   "metadata": {},
   "source": [
    "\n",
    "# Difference between __str__ and __repr__ in Python ?\n",
    "\n",
    "Container’s \\__str__\\ uses contained objects’ \\__repr__\\. So if I change \\__repr__\\ , \\__str__\\ can obatain that. But if I modify \\__str__\\ , \\__repr__\\ cant obtain it.\n",
    "\n",
    "(\\__str__\\) :\n",
    "\n",
    "- To get called by built-int str() method to return a string representation of a type. \n",
    "\n",
    "\n",
    "(\\__repr__\\) :\n",
    "\n",
    "- To get called by built-int repr() method to return a machine readable representation of a type.\n",
    "- goal is to be unambigous and machine readable \n",
    "\n",
    "When no custom \\__str__\\ is available , Python will call \\__repr__\\ as fallback\n"
   ]
  },
  {
   "cell_type": "code",
   "execution_count": 34,
   "metadata": {},
   "outputs": [
    {
     "name": "stdout",
     "output_type": "stream",
     "text": [
      "2022-11-26 13:30:48.067720\n",
      "datetime.datetime(2022, 11, 26, 13, 30, 48, 67720)\n"
     ]
    }
   ],
   "source": [
    "# * Example of repr and str *\n",
    "\n",
    "import datetime\n",
    "today = datetime.datetime.now()\n",
    "  \n",
    "# Prints readable format for date-time object\n",
    "print (str(today))\n",
    "  \n",
    "# prints the official format of date-time object\n",
    "print (repr(today)) "
   ]
  },
  {
   "cell_type": "code",
   "execution_count": 35,
   "metadata": {},
   "outputs": [
    {
     "name": "stdout",
     "output_type": "stream",
     "text": [
      "'Hello, Geeks.'\n",
      "Hello, Geeks.\n"
     ]
    }
   ],
   "source": [
    "s = 'Hello, Geeks.'\n",
    "print (repr(s))\n",
    "print(str(s))"
   ]
  },
  {
   "cell_type": "markdown",
   "metadata": {},
   "source": [
    "# Arithmatic Operators\n",
    "\n",
    "- (+) = (\\__add__\\)  \n",
    "- (*) = (\\__mul__\\)\n",
    "\n",
    "- The methods create and return a new instance of Vector and do not modify the either operand--self or other are merely read. This is the expected behaiviour of \n",
    "\n",
    ">An infix operator is a function of two arguments, with the name of the function written between the arguments. For example, the subtraction operator - is an infix operator. \n",
    "\n",
    "- This is the expected behavior of infix operators: to create new objects and not touch their operands.\n",
    "\n",
    "*Note* : From above example, We can multiply Vector with scaler , but can't multiply scaler with Vector \n"
   ]
  },
  {
   "cell_type": "markdown",
   "metadata": {},
   "source": [
    "# Boolean Value of a Custome Type \n",
    "\n",
    "Normally - bool(x) result: True or False\n",
    "\n",
    "+ instances of user defined classes are consideres Truth , unless either (\\__bool__\\) or (\\__len__\\) is implemented. \n",
    "\n",
    "+ bool(x) calls x.(\\__bool__()\\) and displays the result\n",
    "\n",
    "+ If can't implement (\\__bool__()\\), Python tries to invoke x.(\\__len__()\\)\n",
    "\n",
    "+ If (\\__bool__\\) and (\\__len__\\) results 0 , bool returns False\n",
    "+ (\\__bool__\\) returns False , if the magnitude of the vector is zero and returns True otherwise\n",
    "\n",
    "*Note*: For strings, the bool() method returns True until an unless it’s len() is equal to zero(0).\n"
   ]
  },
  {
   "cell_type": "code",
   "execution_count": 36,
   "metadata": {},
   "outputs": [],
   "source": [
    "class Vec:\n",
    "    def __init__(self, x=0, y=0):\n",
    "        self.x = x\n",
    "        self.y = y\n",
    "    def __bool__(self):\n",
    "        return bool(self.x or self.y)"
   ]
  },
  {
   "cell_type": "markdown",
   "metadata": {},
   "source": [
    "The explicit conversion to bool is\n",
    "needed because __bool__ must return a boolean and or returns\n",
    "either operand as is: x or y evaluates to x if that is truthy, otherwise\n",
    "the result is y, whatever that is."
   ]
  },
  {
   "cell_type": "code",
   "execution_count": 37,
   "metadata": {},
   "outputs": [],
   "source": [
    "v4=Vec(3,2)\n",
    "v5=Vec(3,2)"
   ]
  },
  {
   "cell_type": "code",
   "execution_count": 38,
   "metadata": {},
   "outputs": [
    {
     "data": {
      "text/plain": [
       "True"
      ]
     },
     "execution_count": 38,
     "metadata": {},
     "output_type": "execute_result"
    }
   ],
   "source": [
    "bool((3,2)==(3,2))"
   ]
  },
  {
   "cell_type": "code",
   "execution_count": 39,
   "metadata": {},
   "outputs": [
    {
     "data": {
      "text/plain": [
       "False"
      ]
     },
     "execution_count": 39,
     "metadata": {},
     "output_type": "execute_result"
    }
   ],
   "source": [
    "bool(v4==v5)"
   ]
  },
  {
   "cell_type": "markdown",
   "metadata": {},
   "source": [
    "# Overview of Special Method\n",
    "\n",
    "### Table 1-1. Special method names (operators excluded)\n"
   ]
  },
  {
   "cell_type": "markdown",
   "metadata": {},
   "source": [
    " 1. String/bytes representation --- > (\\__repr__\\,\\__str__\\, \\__format__\\,\\__bytes__\\)\n",
    "\n",
    " 2. Conversion to number ------------> (\\__abs__\\, \\__bool__\\, \\__complex__\\, \\__int__\\, \\__float__\\, \\__hash__\\,\\__index__\\)\n",
    " \n",
    " 3. Emulating collections -----------> (\\__len__\\, \\__getitem__\\, \\__setitem__\\, \\__delitem__\\, \\__contains__\\)\n",
    " 4. Iteration ------------------------>(\\__iter__\\, \\__reversed__\\, \\__next__\\\n",
    " 5. Emulating callables --------------> (\\__call__\\)\n",
    " 6. Context management  --------------> (\\__enter__\\, \\__exit__\\)\n",
    " 7. Instance creation and destruction ->(\\__new__\\, \\__init__\\, \\__del__\\)\n",
    " 8. Attribute management --------------->(\\__getattr__\\, \\__getattribute__\\, \\__setattr__\\, \\__delattr__\\, \\__dir__\\)\n",
    " 9. Attribute descriptors ---------------> (\\__get__\\,\\ __set__\\, \\__delete__\\)\n",
    " 10. Class services---------------------->  (\\__prepare__\\, \\__instancecheck__\\, \\__subclasscheck__\\)"
   ]
  },
  {
   "cell_type": "markdown",
   "metadata": {},
   "source": [
    "### Table 1-2. Special method names for operators\n",
    "\n",
    "*Category Method names and related operators*\n",
    "\n",
    "Unary numeric operators --------- >  __neg__ -, __pos__ +, __abs__ abs()\n",
    "\n",
    "Rich comparison operators--------- > __lt__ >, __le__ <=, __eq__ ==, __ne__ !=, __gt__ >, __ge__ >=\n",
    "\n",
    "Arithmetic operators--------------->  __add__ +, __sub__ -, __mul__ *, __truediv__ /, __floordiv__ //, __mod__\n",
    "%, __divmod__ divmod() , __pow__ ** or pow(), __round__ round()\n",
    "\n",
    "Reversed arithmetic operators-------> __radd__, __rsub__, __rmul__, __rtruediv__, __rfloordiv__, __rmod__,\n",
    "__rdivmod__, __rpow__\n",
    "\n",
    "Augmented assignment \n",
    "arithmetic operators----------------->__iadd__, __isub__, __imul__, __itruediv__, __ifloordiv__, __imod__,__ipow__\n",
    "\n",
    "Bitwise operators--------------------> __invert__ ~, __lshift__ <<, __rshift__ >>, __and__ &, __or__ |,__xor__ ^"
   ]
  },
  {
   "cell_type": "markdown",
   "metadata": {},
   "source": [
    "# Why len is not a method \n",
    "\n",
    "The result of len(x) and x.\\__len__\\() is the same: both return the number of elements in the object more genrally its length \n",
    "\n",
    "When we call len(x) built-in-function , it calls \\__len__\\() method internally to implement the correct behaviour \n",
    "\n",
    "- for built-in types, a call such as len(obj) does not invoke obj.\\__len__\\(). If the type of obj is a variable length built-in type coded in C, its memory representation has a struct named PyVarObject with an ob_size field. \n",
    "\n",
    "- In that case, len(obj) just returns the value of the ob_size field, avoiding an expensive dynamic attribute lookup and method call. Only if obj is a user defined type, then len() will call the __len__() special method, as a fallback."
   ]
  },
  {
   "cell_type": "markdown",
   "metadata": {},
   "source": [
    "We can think abs and len as unary operators. Their functional looks and feel , as opposed to method call syntax can lead us to expect Object Oriented language.\n",
    "\n",
    "### Operator \\ # \\\n",
    "\n",
    "- was equivalent to len\n",
    "- if written x#s , would result s.count(x) : means how many x are in s String\n"
   ]
  },
  {
   "cell_type": "code",
   "execution_count": 40,
   "metadata": {},
   "outputs": [
    {
     "data": {
      "text/plain": [
       "2"
      ]
     },
     "execution_count": 40,
     "metadata": {},
     "output_type": "execute_result"
    }
   ],
   "source": [
    "s=\"fxhx\"\n",
    "x='x'\n",
    "s.count(x)"
   ]
  },
  {
   "cell_type": "markdown",
   "metadata": {},
   "source": [
    "# Chapter summary\n",
    "\n",
    "From Book -\n",
    "\n",
    "- **Special Mehod** : By implementing special methods, our objects can behave like the built-in types, enabling the expressive coding style the community considers Pythonic.\n",
    "\n",
    "- **String Represntation** : \n",
    "        - A basic requirement is to provide usable string represntation\n",
    "        - usable string represntation - \n",
    "            i) one used for debugging and logging (\\__repr__\\) \n",
    "            ii) another for presentation to end users (\\__str__\\)\n",
    "            iii) Python offers rich selection of numeric types , from the built-ins to decimal.Decimal and fractions.Fraction. ( they all support infix arithmatic operator )  \n",
    "            \n",
    "        The reason for exisiting (\\__repr__\\) , (\\__str__\\) in data model is i) and ii)\n",
    "        \n",
    "        \n",
    "**Note** : **Operator overloading** is a compile-time polymorphism.It is an idea of giving special meaning to an existing operator in C++ without changing its original meaning.\n",
    "        \n",
    "  Example:\n",
    "\n",
    "   int a;\n",
    "  float b,sum;\n",
    "  sum=a+b;\n",
    "\n",
    "Here, variables “a” and “b” are of types “int” and “float”, which are built-in data types. Hence the addition operator ‘+’ can easily add the contents of “a” and “b”. This is because the addition operator “+” is predefined to add variables of built-in data type only.\n"
   ]
  },
  {
   "cell_type": "markdown",
   "metadata": {},
   "source": [
    "# Some reading links :\n",
    "\n",
    "1. [“Data Model” chapter of The Python Language Reference](https://docs.python.org/3/reference/datamodel.html)\n",
    "2. [Python in a Nutshell, 2nd Edition (O’Reilly) by Alex Martelli has](bit.ly/Python-IAN)\n",
    "3. Python Essential Reference, 4th Edition (Addison-Wesley Professional),\n",
    "4. Python Cookbook, 3rd Edition (O’Reilly), coauthored with Brian K. Jones.\n",
    "5. The Art of the Metaobject Protocol (AMOP, MIT Press) by Gregor Kiczales,\n"
   ]
  },
  {
   "cell_type": "markdown",
   "metadata": {},
   "source": [
    "# SoapBox\n",
    "\n",
    "### Data Model or Object Model \n",
    "\n",
    " Some might call Python data model or  Python object model \n",
    " \n",
    "### Magic Methods \n",
    "\n",
    "the special methods are called magic methods by some \n",
    "\n",
    "### Metaobjects ( need more research )\n",
    "\n",
    "Book : The Art of Metaobject Protocol (AMOP)\n",
    "\n",
    "- refers to the object that are the building blocks of a language itself\n"
   ]
  },
  {
   "cell_type": "code",
   "execution_count": null,
   "metadata": {},
   "outputs": [],
   "source": []
  }
 ],
 "metadata": {
  "kernelspec": {
   "display_name": "Python 3",
   "language": "python",
   "name": "python3"
  },
  "language_info": {
   "codemirror_mode": {
    "name": "ipython",
    "version": 3
   },
   "file_extension": ".py",
   "mimetype": "text/x-python",
   "name": "python",
   "nbconvert_exporter": "python",
   "pygments_lexer": "ipython3",
   "version": "3.7.4"
  }
 },
 "nbformat": 4,
 "nbformat_minor": 2
}
